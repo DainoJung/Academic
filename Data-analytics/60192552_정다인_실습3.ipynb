{
 "cells": [
  {
   "cell_type": "code",
   "id": "41a95b1b-64fb-4301-8b3f-e2a7b95654a0",
   "metadata": {
    "ExecuteTime": {
     "end_time": "2024-10-12T23:53:05.631304Z",
     "start_time": "2024-10-12T23:53:05.628642Z"
    }
   },
   "source": [
    "import requests"
   ],
   "outputs": [],
   "execution_count": 37
  },
  {
   "cell_type": "code",
   "id": "b994f27c-b6dd-447d-86d1-30b3c4a26f42",
   "metadata": {
    "ExecuteTime": {
     "end_time": "2024-10-12T23:53:05.861941Z",
     "start_time": "2024-10-12T23:53:05.859589Z"
    }
   },
   "source": [
    "url=\"http://www.kobis.or.kr/kobisopenapi/webservice/rest/people/searchPeopleList.json\"\n",
    "key=\"17c97e2d051ffda3b2582f1b3c190a96\" #발급받은 본인의 key를 입력하세요"
   ],
   "outputs": [],
   "execution_count": 38
  },
  {
   "cell_type": "code",
   "id": "53fd07a2-fd2d-4d94-9559-e8dbd7ddd961",
   "metadata": {
    "ExecuteTime": {
     "end_time": "2024-10-12T23:53:07.173047Z",
     "start_time": "2024-10-12T23:53:06.059442Z"
    }
   },
   "source": [
    "payload={\"key\":key}\n",
    "\n",
    "r=requests.get(url, params=payload)\n",
    "\n",
    "data=r.json()"
   ],
   "outputs": [],
   "execution_count": 39
  },
  {
   "metadata": {},
   "cell_type": "code",
   "outputs": [],
   "execution_count": null,
   "source": "",
   "id": "78337e61a636e405"
  },
  {
   "cell_type": "code",
   "id": "0521e8e5-35b4-408b-bd72-c983c2dbda55",
   "metadata": {
    "ExecuteTime": {
     "end_time": "2024-10-12T23:53:07.177793Z",
     "start_time": "2024-10-12T23:53:07.174885Z"
    }
   },
   "source": [
    "print(data)"
   ],
   "outputs": [
    {
     "name": "stdout",
     "output_type": "stream",
     "text": [
      "{'peopleListResult': {'totCnt': 170331, 'peopleList': [{'peopleCd': '20143819', 'peopleNm': '김남정', 'peopleNmEn': '', 'repRoleNm': '홍보/마케팅 진행', 'filmoNames': '둘, 다시 하나|극장판 검정고무신 : 즐거운 나의 집|극장판 윌벤져스 : 수상한 캠핑 대소동|극장판 귀멸의 칼날: 무한열차편|추억의 검정고무신|극장판 엉덩이 탐정: 텐텐마을의 수수께끼|극장판 엉덩이 탐정: 화려한 사건 수첩|극장판 짱구는 못말려: 아뵤! 쿵후 보이즈 ~라면 대란~|일곱 개의 대죄 : 천공의 포로|에그엔젤 코코밍: 두근두근 핼러윈 파티|련희와 연희|사랑이 무서워|헬로우 고스트'}, {'peopleCd': '20196244', 'peopleNm': '김기영', 'peopleNmEn': '', 'repRoleNm': '의상팀', 'filmoNames': '역린'}, {'peopleCd': '20398533', 'peopleNm': '온유', 'peopleNmEn': 'ONEW', 'repRoleNm': '배우', 'filmoNames': '4분 44초'}, {'peopleCd': '20182429', 'peopleNm': '장지원', 'peopleNmEn': 'JANG Ji-won', 'repRoleNm': '프로듀서', 'filmoNames': '탈출: 프로젝트 사일런스|장손|뒤틀린 집|브로커|같은 속옷을 입는 두 여자|둥글고 둥글게|엑시트|출국|옥자|사랑하기 때문에|미쓰 와이프|국제시장|타짜-신의 손|가문의 영광5 - 가문의 귀환|잔상|마트료시카|해리|성인식'}, {'peopleCd': '10061707', 'peopleNm': '정명숙', 'peopleNmEn': 'JUNG Myung-sook', 'repRoleNm': '프로듀서', 'filmoNames': '희망의 발견|물꽃의 전설|2퍼센트|카일라스 가는 길|무스탕 가는 길|해부학 교실|쇼쇼쇼(Show Show Show)|섬|처녀들의 저녁식사|장롱|지우개 따먹기'}, {'peopleCd': '20157837', 'peopleNm': '오수진', 'peopleNmEn': 'OH Su jin', 'repRoleNm': '음악', 'filmoNames': '파이터|개 같은 것들|사랑하고 있습니까|시호|쇠파리|혼자|베토벤 메들리|우리의 마지막 여름|설해|녹색의자 2013 - 러브 컨셉츄얼리|베드|생생활활|물고기|스타: 빛나는 사랑|저스트 프렌즈|라라 선샤인|갈 곳 없는|미메시스|물물교환|공허충|주관식 문제|그 카페'}, {'peopleCd': '20379332', 'peopleNm': '윤소희', 'peopleNmEn': '', 'repRoleNm': '배우', 'filmoNames': '비상선언'}, {'peopleCd': '20386372', 'peopleNm': '황단용', 'peopleNmEn': '', 'repRoleNm': '연출팀', 'filmoNames': '귀못'}, {'peopleCd': '20385182', 'peopleNm': '김이담', 'peopleNmEn': 'KIM I DAM', 'repRoleNm': '배우', 'filmoNames': '섬.망(望)|한산 리덕스|한산: 용의 출현|거래완료'}, {'peopleCd': '20135804', 'peopleNm': '심규봉', 'peopleNmEn': '', 'repRoleNm': '제작팀', 'filmoNames': '교섭|집 나온 남자들|거북이 달린다|멋진 하루|사랑'}], 'source': '영화진흥위원회'}}\n"
     ]
    }
   ],
   "execution_count": 40
  },
  {
   "cell_type": "markdown",
   "id": "ab04e4db-c86a-4c4d-b220-efe4b37a3836",
   "metadata": {},
   "source": [
    "### data에서 people list 정보만 쪼개서 가져오기"
   ]
  },
  {
   "cell_type": "code",
   "id": "8d196c4a-003e-4ebc-94fd-164f285de843",
   "metadata": {
    "ExecuteTime": {
     "end_time": "2024-10-12T23:53:07.335890Z",
     "start_time": "2024-10-12T23:53:07.333571Z"
    }
   },
   "source": [
    "people_list=data[\"peopleListResult\"]['peopleList']\n",
    "print(people_list)"
   ],
   "outputs": [
    {
     "name": "stdout",
     "output_type": "stream",
     "text": [
      "[{'peopleCd': '20143819', 'peopleNm': '김남정', 'peopleNmEn': '', 'repRoleNm': '홍보/마케팅 진행', 'filmoNames': '둘, 다시 하나|극장판 검정고무신 : 즐거운 나의 집|극장판 윌벤져스 : 수상한 캠핑 대소동|극장판 귀멸의 칼날: 무한열차편|추억의 검정고무신|극장판 엉덩이 탐정: 텐텐마을의 수수께끼|극장판 엉덩이 탐정: 화려한 사건 수첩|극장판 짱구는 못말려: 아뵤! 쿵후 보이즈 ~라면 대란~|일곱 개의 대죄 : 천공의 포로|에그엔젤 코코밍: 두근두근 핼러윈 파티|련희와 연희|사랑이 무서워|헬로우 고스트'}, {'peopleCd': '20196244', 'peopleNm': '김기영', 'peopleNmEn': '', 'repRoleNm': '의상팀', 'filmoNames': '역린'}, {'peopleCd': '20398533', 'peopleNm': '온유', 'peopleNmEn': 'ONEW', 'repRoleNm': '배우', 'filmoNames': '4분 44초'}, {'peopleCd': '20182429', 'peopleNm': '장지원', 'peopleNmEn': 'JANG Ji-won', 'repRoleNm': '프로듀서', 'filmoNames': '탈출: 프로젝트 사일런스|장손|뒤틀린 집|브로커|같은 속옷을 입는 두 여자|둥글고 둥글게|엑시트|출국|옥자|사랑하기 때문에|미쓰 와이프|국제시장|타짜-신의 손|가문의 영광5 - 가문의 귀환|잔상|마트료시카|해리|성인식'}, {'peopleCd': '10061707', 'peopleNm': '정명숙', 'peopleNmEn': 'JUNG Myung-sook', 'repRoleNm': '프로듀서', 'filmoNames': '희망의 발견|물꽃의 전설|2퍼센트|카일라스 가는 길|무스탕 가는 길|해부학 교실|쇼쇼쇼(Show Show Show)|섬|처녀들의 저녁식사|장롱|지우개 따먹기'}, {'peopleCd': '20157837', 'peopleNm': '오수진', 'peopleNmEn': 'OH Su jin', 'repRoleNm': '음악', 'filmoNames': '파이터|개 같은 것들|사랑하고 있습니까|시호|쇠파리|혼자|베토벤 메들리|우리의 마지막 여름|설해|녹색의자 2013 - 러브 컨셉츄얼리|베드|생생활활|물고기|스타: 빛나는 사랑|저스트 프렌즈|라라 선샤인|갈 곳 없는|미메시스|물물교환|공허충|주관식 문제|그 카페'}, {'peopleCd': '20379332', 'peopleNm': '윤소희', 'peopleNmEn': '', 'repRoleNm': '배우', 'filmoNames': '비상선언'}, {'peopleCd': '20386372', 'peopleNm': '황단용', 'peopleNmEn': '', 'repRoleNm': '연출팀', 'filmoNames': '귀못'}, {'peopleCd': '20385182', 'peopleNm': '김이담', 'peopleNmEn': 'KIM I DAM', 'repRoleNm': '배우', 'filmoNames': '섬.망(望)|한산 리덕스|한산: 용의 출현|거래완료'}, {'peopleCd': '20135804', 'peopleNm': '심규봉', 'peopleNmEn': '', 'repRoleNm': '제작팀', 'filmoNames': '교섭|집 나온 남자들|거북이 달린다|멋진 하루|사랑'}]\n"
     ]
    }
   ],
   "execution_count": 41
  },
  {
   "cell_type": "markdown",
   "id": "33b54336-434a-48d8-94e0-a39965b399ff",
   "metadata": {},
   "source": [
    "### 첫 페이지에서 20명의 영화인 정보 json code 받아 오기"
   ]
  },
  {
   "cell_type": "code",
   "id": "a1d65592-e28e-4058-890d-57dc38f804f0",
   "metadata": {
    "ExecuteTime": {
     "end_time": "2024-10-12T23:53:09.424986Z",
     "start_time": "2024-10-12T23:53:08.378593Z"
    }
   },
   "source": [
    "payload={\"key\":key, \"itemPerPage\":20}\n",
    "r=requests.get(url,params=payload)\n",
    "data = r.json()\n",
    "movie_people_list=data[\"peopleListResult\"]['peopleList']\n",
    "print(data)"
   ],
   "outputs": [
    {
     "name": "stdout",
     "output_type": "stream",
     "text": [
      "{'peopleListResult': {'totCnt': 170331, 'peopleList': [{'peopleCd': '20143819', 'peopleNm': '김남정', 'peopleNmEn': '', 'repRoleNm': '홍보/마케팅 진행', 'filmoNames': '둘, 다시 하나|극장판 검정고무신 : 즐거운 나의 집|극장판 윌벤져스 : 수상한 캠핑 대소동|극장판 귀멸의 칼날: 무한열차편|추억의 검정고무신|극장판 엉덩이 탐정: 텐텐마을의 수수께끼|극장판 엉덩이 탐정: 화려한 사건 수첩|극장판 짱구는 못말려: 아뵤! 쿵후 보이즈 ~라면 대란~|일곱 개의 대죄 : 천공의 포로|에그엔젤 코코밍: 두근두근 핼러윈 파티|련희와 연희|사랑이 무서워|헬로우 고스트'}, {'peopleCd': '20196244', 'peopleNm': '김기영', 'peopleNmEn': '', 'repRoleNm': '의상팀', 'filmoNames': '역린'}, {'peopleCd': '20398533', 'peopleNm': '온유', 'peopleNmEn': 'ONEW', 'repRoleNm': '배우', 'filmoNames': '4분 44초'}, {'peopleCd': '20182429', 'peopleNm': '장지원', 'peopleNmEn': 'JANG Ji-won', 'repRoleNm': '프로듀서', 'filmoNames': '탈출: 프로젝트 사일런스|장손|뒤틀린 집|브로커|같은 속옷을 입는 두 여자|둥글고 둥글게|엑시트|출국|옥자|사랑하기 때문에|미쓰 와이프|국제시장|타짜-신의 손|가문의 영광5 - 가문의 귀환|잔상|마트료시카|해리|성인식'}, {'peopleCd': '10061707', 'peopleNm': '정명숙', 'peopleNmEn': 'JUNG Myung-sook', 'repRoleNm': '프로듀서', 'filmoNames': '희망의 발견|물꽃의 전설|2퍼센트|카일라스 가는 길|무스탕 가는 길|해부학 교실|쇼쇼쇼(Show Show Show)|섬|처녀들의 저녁식사|장롱|지우개 따먹기'}, {'peopleCd': '20157837', 'peopleNm': '오수진', 'peopleNmEn': 'OH Su jin', 'repRoleNm': '음악', 'filmoNames': '파이터|개 같은 것들|사랑하고 있습니까|시호|쇠파리|혼자|베토벤 메들리|우리의 마지막 여름|설해|녹색의자 2013 - 러브 컨셉츄얼리|베드|생생활활|물고기|스타: 빛나는 사랑|저스트 프렌즈|라라 선샤인|갈 곳 없는|미메시스|물물교환|공허충|주관식 문제|그 카페'}, {'peopleCd': '20379332', 'peopleNm': '윤소희', 'peopleNmEn': '', 'repRoleNm': '배우', 'filmoNames': '비상선언'}, {'peopleCd': '20386372', 'peopleNm': '황단용', 'peopleNmEn': '', 'repRoleNm': '연출팀', 'filmoNames': '귀못'}, {'peopleCd': '20385182', 'peopleNm': '김이담', 'peopleNmEn': 'KIM I DAM', 'repRoleNm': '배우', 'filmoNames': '섬.망(望)|한산 리덕스|한산: 용의 출현|거래완료'}, {'peopleCd': '20135804', 'peopleNm': '심규봉', 'peopleNmEn': '', 'repRoleNm': '제작팀', 'filmoNames': '교섭|집 나온 남자들|거북이 달린다|멋진 하루|사랑'}, {'peopleCd': '10065915', 'peopleNm': '조성규', 'peopleNmEn': 'CHO Sung-kyu', 'repRoleNm': '감독', 'filmoNames': '머릿속을|모자산책|긴 하루|크루아상|재혼의 기술|발광하는 현대사|늦여름|딥|각자의 미식|게스트하우스|실종2|어떻게 헤어질까|두 개의 연애|어떤이의 꿈|플랑크 상수|산타바바라|내가 고백을 하면|설마 그럴리가 없어|모피를 입은 비너스|돌이킬 수 없는|맛있는 인생|집 나온 남자들|채식주의자|여배우들|집행자|부산|이태원 살인사건|10억|거북이 달린다|키친|오이시맨|로맨틱 아일랜드|이리|비몽|멋진 하루|영화는 영화다|아름답다|중경|별빛 속으로|열세살 수아|아주 특별한 손님|온 더 로드, 투|거칠마루|라스트 씬|화장실, 어디에요?|도쿄!|감자적 소나타'}, {'peopleCd': '20392234', 'peopleNm': '양은식', 'peopleNmEn': '', 'repRoleNm': '그립', 'filmoNames': '범죄도시3'}, {'peopleCd': '20398515', 'peopleNm': '현지선', 'peopleNmEn': 'Hyun Ji Sun', 'repRoleNm': '배우', 'filmoNames': '망고'}, {'peopleCd': '10083622', 'peopleNm': '폴 버호벤', 'peopleNmEn': 'Paul Verhoeven', 'repRoleNm': '감독', 'filmoNames': '베네데타|엘르|트릭|블랙북|할로우 맨|스타쉽 트루퍼스 |쇼걸|원초적 본능|원초적 본능|토탈리콜|로보캅|포스 맨 |스페터스|더 레슬러|네덜란드 왕립 해병대|파티!|특별하지 않은|도마뱀|파울 페르후번 초기 단편|AISFF2016 시네마 올드 앤 뉴 + 특별상영 2|AISFF2016 시네마 올드 앤 뉴 + 특별상영 1'}, {'peopleCd': '20326372', 'peopleNm': '김지홍', 'peopleNmEn': 'KIM Jee-hong', 'repRoleNm': '감독', 'filmoNames': '그래서 나 보고 어떡하라고|잠복근무의 맛|춤을 추면, 혹시나|아귀도|구더기, 흩어지다|산책|번개가 떨어졌다|뜨거운 그대들에게|오렌지필름 기획전 - 경고: 눈을 크게 뜨고 보세요!'}, {'peopleCd': '20398532', 'peopleNm': '서상원', 'peopleNmEn': '', 'repRoleNm': '감독', 'filmoNames': '갈비찜레시피'}, {'peopleCd': '20290171', 'peopleNm': '박건우', 'peopleNmEn': '', 'repRoleNm': '프로듀서', 'filmoNames': '8인의 용의자들|13일의 금요일 : 음모론의 시작|디엠지: 리로드|블러드 사쿠라|아나운서 살인사건|악의제국: 13일의금요일 챕터2|데스트랩|폴리스 스파이|야경 : 죽음의 택시|월하'}, {'peopleCd': '20290170', 'peopleNm': '박지영', 'peopleNmEn': 'Jiyoung Park', 'repRoleNm': '제작', 'filmoNames': '8인의 용의자들|13일의 금요일 : 음모론의 시작|디엠지: 리로드|블러드 사쿠라|아나운서 살인사건|악의제국: 13일의금요일 챕터2|데스트랩|폴리스 스파이|야경 : 죽음의 택시|월하'}, {'peopleCd': '20389388', 'peopleNm': '채시은', 'peopleNmEn': 'Chae Si Eun', 'repRoleNm': '배우', 'filmoNames': '대도시의 사랑법|서울대작전|데시벨'}, {'peopleCd': '20260577', 'peopleNm': '허다희', 'peopleNmEn': 'Heo DaHee', 'repRoleNm': '감독', 'filmoNames': '첨벙|J에게|로또|제6회 고양스마트영화제 2일 1부'}], 'source': '영화진흥위원회'}}\n"
     ]
    }
   ],
   "execution_count": 42
  },
  {
   "cell_type": "markdown",
   "id": "0811d5a3-f327-45b1-b0b9-448ca1356809",
   "metadata": {},
   "source": [
    "### peopleCd 20개 목록 list로 만들고 출력하기"
   ]
  },
  {
   "cell_type": "code",
   "id": "9f62d03e-ad1e-4437-84f4-4bf16b62901e",
   "metadata": {
    "ExecuteTime": {
     "end_time": "2024-10-12T23:53:10.819205Z",
     "start_time": "2024-10-12T23:53:10.816298Z"
    }
   },
   "source": [
    "cdList = []\n",
    "for person in movie_people_list:\n",
    "    cdList.append(person[\"peopleCd\"])\n",
    "print(cdList)"
   ],
   "outputs": [
    {
     "name": "stdout",
     "output_type": "stream",
     "text": [
      "['20143819', '20196244', '20398533', '20182429', '10061707', '20157837', '20379332', '20386372', '20385182', '20135804', '10065915', '20392234', '20398515', '10083622', '20326372', '20398532', '20290171', '20290170', '20389388', '20260577']\n"
     ]
    }
   ],
   "execution_count": 43
  },
  {
   "cell_type": "markdown",
   "id": "4a17e8ec-d491-46b2-99d0-c34c084efece",
   "metadata": {},
   "source": [
    "### 실습4 검색된 영화인 코드에 해당하는 20명의 영화인 정보 출력하기"
   ]
  },
  {
   "cell_type": "code",
   "id": "54d2d63a-b8d9-45e0-8dab-6ccefab747ca",
   "metadata": {
    "ExecuteTime": {
     "end_time": "2024-10-12T23:53:17.333831Z",
     "start_time": "2024-10-12T23:53:13.451358Z"
    }
   },
   "source": [
    "url=\"http://www.kobis.or.kr/kobisopenapi/webservice/rest/people/searchPeopleInfo.json\"\n",
    "\n",
    "for peopleCd in cdList:\n",
    "    InfoList=[]\n",
    "    payload={\"key\":key, \"peopleCd\":peopleCd}\n",
    "    r=requests.get(url, params=payload)\n",
    "    data=r.json()\n",
    "    InfoList.append(data[\"peopleInfoResult\"]['peopleInfo']['peopleCd']) \n",
    "    InfoList.append(data[\"peopleInfoResult\"]['peopleInfo']['peopleNm']) \n",
    "    InfoList.append(data[\"peopleInfoResult\"]['peopleInfo']['sex']) \n",
    "    print(InfoList)"
   ],
   "outputs": [
    {
     "name": "stdout",
     "output_type": "stream",
     "text": [
      "['20143819', '김남정', '여자']\n",
      "['20196244', '김기영', '여자']\n",
      "['20398533', '온유', '남자']\n",
      "['20182429', '장지원', '남자']\n",
      "['10061707', '정명숙', '여자']\n",
      "['20157837', '오수진', '여자']\n",
      "['20379332', '윤소희', '여자']\n",
      "['20386372', '황단용', '남자']\n",
      "['20385182', '김이담', '남자']\n",
      "['20135804', '심규봉', '남자']\n",
      "['10065915', '조성규', '남자']\n",
      "['20392234', '양은식', '남자']\n",
      "['20398515', '현지선', '여자']\n",
      "['10083622', '폴 버호벤', '남자']\n",
      "['20326372', '김지홍', '남자']\n",
      "['20398532', '서상원', '남자']\n",
      "['20290171', '박건우', '남자']\n",
      "['20290170', '박지영', '여자']\n",
      "['20389388', '채시은', '여자']\n",
      "['20260577', '허다희', '여자']\n"
     ]
    }
   ],
   "execution_count": 44
  }
 ],
 "metadata": {
  "kernelspec": {
   "display_name": "Python 3",
   "language": "python",
   "name": "python3"
  },
  "language_info": {
   "codemirror_mode": {
    "name": "ipython",
    "version": 3
   },
   "file_extension": ".py",
   "mimetype": "text/x-python",
   "name": "python",
   "nbconvert_exporter": "python",
   "pygments_lexer": "ipython3",
   "version": "3.8.8"
  }
 },
 "nbformat": 4,
 "nbformat_minor": 5
}
