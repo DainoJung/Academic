{
 "cells": [
  {
   "cell_type": "code",
   "id": "initial_id",
   "metadata": {
    "collapsed": true,
    "ExecuteTime": {
     "end_time": "2024-10-08T03:09:25.897945Z",
     "start_time": "2024-10-08T03:09:25.846973Z"
    }
   },
   "source": "import requests",
   "outputs": [],
   "execution_count": 1
  },
  {
   "metadata": {
    "ExecuteTime": {
     "end_time": "2024-10-08T03:17:37.432091Z",
     "start_time": "2024-10-08T03:17:37.430169Z"
    }
   },
   "cell_type": "code",
   "source": [
    "url = (\"http://www.kobis.or\"\n",
    "       \".kr/kobisopenapi/webservice/rest/people/searchPeopleList.json\")\n",
    "key=\"17c97e2d051ffda3b2582f1b3c190a96\""
   ],
   "id": "732f48cc303c5737",
   "outputs": [],
   "execution_count": 23
  },
  {
   "metadata": {
    "ExecuteTime": {
     "end_time": "2024-10-08T03:17:39.140411Z",
     "start_time": "2024-10-08T03:17:37.846970Z"
    }
   },
   "cell_type": "code",
   "source": [
    "payload={\"key\":key, \"itemPerPage\":20}\n",
    "r=requests.get(url,params=payload)\n",
    "data = r.json()\n"
   ],
   "id": "dc67a32ed506f342",
   "outputs": [],
   "execution_count": 24
  },
  {
   "metadata": {
    "ExecuteTime": {
     "end_time": "2024-10-08T03:17:39.143132Z",
     "start_time": "2024-10-08T03:17:39.141468Z"
    }
   },
   "cell_type": "code",
   "source": "people_list=data[\"peopleListResult\"][\"peopleList\"]",
   "id": "89db1a7a9063e276",
   "outputs": [],
   "execution_count": 25
  },
  {
   "metadata": {
    "ExecuteTime": {
     "end_time": "2024-10-08T03:17:39.145681Z",
     "start_time": "2024-10-08T03:17:39.143694Z"
    }
   },
   "cell_type": "code",
   "source": [
    "cdList = []\n",
    "for person in people_list:\n",
    "    cdList.append(person[\"peopleCd\"])\n",
    "print(cdList)"
   ],
   "id": "8f7d380db311846f",
   "outputs": [
    {
     "name": "stdout",
     "output_type": "stream",
     "text": [
      "['20398439', '20275869', '20321523', '20275870', '20161223', '20339402', '20398438', '20398487', '20398437', '20398436', '20371741', '20384520', '20166905', '20398468', '20229736', '20319770', '20396275', '20398435', '20393023', '20398467']\n"
     ]
    }
   ],
   "execution_count": 26
  },
  {
   "metadata": {
    "ExecuteTime": {
     "end_time": "2024-10-08T03:17:39.148005Z",
     "start_time": "2024-10-08T03:17:39.146672Z"
    }
   },
   "cell_type": "code",
   "source": "",
   "id": "c8a4c0ea3dac31c7",
   "outputs": [],
   "execution_count": 26
  },
  {
   "metadata": {},
   "cell_type": "code",
   "outputs": [],
   "execution_count": null,
   "source": "",
   "id": "484ab7a308597f50"
  }
 ],
 "metadata": {
  "kernelspec": {
   "display_name": "Python 3",
   "language": "python",
   "name": "python3"
  },
  "language_info": {
   "codemirror_mode": {
    "name": "ipython",
    "version": 2
   },
   "file_extension": ".py",
   "mimetype": "text/x-python",
   "name": "python",
   "nbconvert_exporter": "python",
   "pygments_lexer": "ipython2",
   "version": "2.7.6"
  }
 },
 "nbformat": 4,
 "nbformat_minor": 5
}
