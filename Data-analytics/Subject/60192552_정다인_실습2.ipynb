{
 "cells": [
  {
   "cell_type": "markdown",
   "metadata": {},
   "source": [
    "# Web scraping setup\n",
    "## Importing request and BeautifulSoup"
   ]
  },
  {
   "cell_type": "code",
   "execution_count": 39,
   "metadata": {},
   "outputs": [],
   "source": [
    "import requests\n",
    "from bs4 import BeautifulSoup\n",
    "import csv"
   ]
  },
  {
   "cell_type": "markdown",
   "metadata": {},
   "source": [
    "## Send HTTP request & get response from server"
   ]
  },
  {
   "cell_type": "code",
   "execution_count": 40,
   "metadata": {},
   "outputs": [],
   "source": [
    "url='http://www.kobis.or.kr/kobis/business/mast/thea/findTheaterInfoList.do'\n",
    "r=requests.post(url)"
   ]
  },
  {
   "cell_type": "markdown",
   "metadata": {},
   "source": [
    "## Parse html code using BeautifulSoup module"
   ]
  },
  {
   "cell_type": "code",
   "execution_count": 41,
   "metadata": {},
   "outputs": [],
   "source": [
    "soup=BeautifulSoup(r.text, \"html.parser\")\n",
    "#print(soup)"
   ]
  },
  {
   "cell_type": "markdown",
   "metadata": {},
   "source": [
    "## find_all & find\n",
    "### - 테이블 전체에 대한 html tag 구하기\n",
    "### - 테이블 안의 모든 행에 대한 html tag 찾기\n",
    "### - 'rows'는 각 행에 대한 html 코드를  리스트 형태로 담고 있음"
   ]
  },
  {
   "cell_type": "code",
   "execution_count": 42,
   "metadata": {},
   "outputs": [
    {
     "name": "stdout",
     "output_type": "stream",
     "text": [
      "10\n"
     ]
    }
   ],
   "source": [
    "table=soup.find('table')\n",
    "rows=table.find('tbody').find_all('tr')\n",
    "\n",
    "# print(table)\n",
    "# print(rows)\n",
    "# print(rows[0])\n",
    "print(len(rows))"
   ]
  },
  {
   "cell_type": "markdown",
   "metadata": {},
   "source": [
    "### In-Class Exercise #1 - 행별로 열을 파싱하기\n",
    "### - 'col' 은 첫 번째 행의 각 열에 대한 정보를 담고 있음\n",
    "### - 'col'의 길이는 행별 열의 개수를 의미함\n",
    "### - 'result'는 첫 행의 각 열의 값을 담는 리스트"
   ]
  },
  {
   "cell_type": "code",
   "execution_count": 43,
   "metadata": {},
   "outputs": [
    {
     "name": "stdout",
     "output_type": "stream",
     "text": [
      "['서울시', '강서구', '001228', '메가박스 화곡', '5', '851', '상설', '가입', '메가박스(주)', '2015-05-29', '영업']\n"
     ]
    }
   ],
   "source": [
    "columns=rows[0].find_all('td')\n",
    "text_columns=[]\n",
    "for i in columns:\n",
    "    text_columns.append(i.get_text())\n",
    "print(text_columns)"
   ]
  },
  {
   "cell_type": "markdown",
   "metadata": {},
   "source": [
    "### 반복문을 통하여 전체 행의 정보 가져오기\n",
    "### - nested loop (이중 반복문)을 응용하여 리스트로 전체 테이블의 행을 출력하기"
   ]
  },
  {
   "cell_type": "code",
   "execution_count": 48,
   "metadata": {},
   "outputs": [
    {
     "name": "stdout",
     "output_type": "stream",
     "text": [
      "['경상남도', '양산시', '007078', '메가박스 양산', '6', '528', '상설', '가입', '메가박스(주)', '2017-05-01', '영업']\n",
      "['서울시', '동작구', '001290', '롯데시네마 신대방', '6', '533', '상설', '가입', '롯데컬처웍스(주)롯데시네마', '2022-07-29', '영업']\n",
      "['서울시', '양천구', '001291', '메가박스 더 부티크 목동현대백화점', '8', '883', '상설', '가입', '메가박스(주)', '2022-12-13', '영업']\n",
      "['전라북도', '완주군', '008223', '완주 휴 시네마', '2', '90', '상설', '가입', '(주)디트릭스 ', '2014-09-18', '영업']\n",
      "['강원도', '횡성군', '003211', '횡성시네마', '2', '136', '상설', '가입', '(주)디트릭스 ', '2018-02-14', '영업']\n",
      "['경기도', '평택시', '002042', '메가박스 평택비전', '5', '333', '상설', '가입', '메가박스(주)', '2024-01-18', '영업']\n",
      "['서울시', '영등포구', '001158', 'CGV 영등포', '12', '2,712', '상설', '가입', 'CJ올리브네트웍스(주)', '2009-09-15', '영업']\n",
      "['경상남도', '김해시', '007077', 'CGV 김해장유', '6', '742', '상설', '가입', 'CJ올리브네트웍스(주)', '2017-01-25', '영업']\n",
      "['서울시', '중랑구', '001236', 'CGV 상봉', '7', '1,155', '상설', '가입', 'CJ올리브네트웍스(주)', '2016-02-25', '영업']\n",
      "['서울시', '강북구', '001124', 'CGV 미아', '6', '691', '상설', '가입', 'CJ올리브네트웍스(주)', '2007-04-01', '영업']\n"
     ]
    }
   ],
   "source": [
    "\n",
    "\n",
    "for i in range(len(rows)):\n",
    "    text_columns_2=[]\n",
    "    columns=rows[i].find_all('td')\n",
    "    for j in columns:\n",
    "        text_columns_2.append(j.get_text())\n",
    "    print(text_columns_2)"
   ]
  },
  {
   "cell_type": "markdown",
   "metadata": {},
   "source": [
    "# Editing page parameters"
   ]
  },
  {
   "cell_type": "code",
   "execution_count": 45,
   "metadata": {},
   "outputs": [],
   "source": [
    "page=1\n",
    "payload={'pageIndex':page}\n",
    "r=requests.post(url, params=payload)\n",
    "soup=BeautifulSoup(r.text, \"html.parser\")\n",
    "\n",
    "# print(soup)"
   ]
  },
  {
   "cell_type": "markdown",
   "metadata": {},
   "source": [
    "# In-Class Exercise #1 - Editing page parameters\n",
    "- 10페이지 첫 번째 영화관 정보를 출력해 보자"
   ]
  },
  {
   "cell_type": "code",
   "execution_count": 46,
   "metadata": {},
   "outputs": [
    {
     "name": "stdout",
     "output_type": "stream",
     "text": [
      "['서울시', '강서구', '001228', '메가박스 화곡', '5', '851', '상설', '가입', '메가박스(주)', '2015-05-29', '영업', '부산시', '부산진구', '001286', 'CGV 서면상상마당', '6', '658', '상설', '가입', 'CJ올리브네트웍스(주)', '2021-12-22', '영업']\n"
     ]
    }
   ],
   "source": [
    "page=10\n",
    "payload={'pageIndex':page}\n",
    "r=requests.post(url, params=payload)\n",
    "soup=BeautifulSoup(r.text, \"html.parser\")\n",
    "table=soup.find('table')\n",
    "rows=table.find('tbody').find_all('tr')\n",
    "columns=rows[0].find_all('td')\n",
    "\n",
    "for i in columns:\n",
    "    text_columns_3=[]\n",
    "    text_columns.append(i.get_text())\n",
    "print(text_columns)\n"
   ]
  },
  {
   "cell_type": "markdown",
   "metadata": {},
   "source": [
    "# In-Class Exercise #2 - Parameter를 수정하여 10페이지까지의 데이터 수집"
   ]
  },
  {
   "cell_type": "code",
   "execution_count": 55,
   "metadata": {},
   "outputs": [
    {
     "name": "stdout",
     "output_type": "stream",
     "text": [
      "11\n"
     ]
    }
   ],
   "source": [
    "for i in range(10):\n",
    "\n",
    "    page=i\n",
    "    payload={'pageIndex':page}\n",
    "    r=requests.post(url, params=payload)\n",
    "    soup=BeautifulSoup(r.text, \"html.parser\")\n",
    "    table=soup.find('table')\n",
    "    rows=table.find('tbody').find_all('tr')\n",
    "\n",
    "    \n",
    "    for j in range(len(rows)):\n",
    "        text_columns_4=[]\n",
    "        columns=rows[j].find_all('td')\n",
    "        for k in columns:\n",
    "            text_columns_4.append(k.get_text())"
   ]
  },
  {
   "cell_type": "markdown",
   "metadata": {},
   "source": [
    "# In-Class Exercise #3- CSV file 로 저장"
   ]
  },
  {
   "cell_type": "code",
   "execution_count": 56,
   "metadata": {},
   "outputs": [],
   "source": [
    "with open('theater.csv', 'a', newline='') as out:\n",
    "    store=csv.writer(out)\n",
    "    for i in range(10):\n",
    "        page=i\n",
    "        payload={'pageIndex':page}\n",
    "        r=requests.post(url, params=payload)\n",
    "        soup=BeautifulSoup(r.text, \"html.parser\")\n",
    "        table=soup.find('table')\n",
    "        rows=table.find('tbody').find_all('tr')\n",
    "        for j in range(len(rows)):\n",
    "            text_columns_5=[]\n",
    "            columns=rows[j].find_all('td')\n",
    "            for k in columns:\n",
    "                text_columns_5.append(k.get_text())\n",
    "            store.writerow(text_columns_5)"
   ]
  }
 ],
 "metadata": {
  "kernelspec": {
   "display_name": "Python 3 (ipykernel)",
   "language": "python",
   "name": "python3"
  },
  "language_info": {
   "codemirror_mode": {
    "name": "ipython",
    "version": 3
   },
   "file_extension": ".py",
   "mimetype": "text/x-python",
   "name": "python",
   "nbconvert_exporter": "python",
   "pygments_lexer": "ipython3",
   "version": "3.11.5"
  }
 },
 "nbformat": 4,
 "nbformat_minor": 4
}
