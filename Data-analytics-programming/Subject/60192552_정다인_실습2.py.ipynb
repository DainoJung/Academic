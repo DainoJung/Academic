{
 "cells": [
  {
   "cell_type": "code",
   "execution_count": 5,
   "id": "efef9729",
   "metadata": {},
   "outputs": [
    {
     "name": "stdout",
     "output_type": "stream",
     "text": [
      "숫자 목록을 입력하세요 (쉼표로 구분): 5, 10, 15, 20, 25\n",
      "\n",
      "입력한 숫자 목록:  [5, 10, 15, 20, 25]\n",
      "합계:  75\n",
      "평균:  15.0\n"
     ]
    }
   ],
   "source": [
    "user_list = list(map(int, input(\"숫자 목록을 입력하세요 (쉼표로 구분): \").split(', ')))\n",
    "\n",
    "print()\n",
    "print(\"입력한 숫자 목록: \", user_list)\n",
    "print(\"합계: \",sum(user_list))\n",
    "print(\"평균: \", sum(user_list)/len(user_list))"
   ]
  }
 ],
 "metadata": {
  "kernelspec": {
   "display_name": "Python 3 (ipykernel)",
   "language": "python",
   "name": "python3"
  },
  "language_info": {
   "codemirror_mode": {
    "name": "ipython",
    "version": 3
   },
   "file_extension": ".py",
   "mimetype": "text/x-python",
   "name": "python",
   "nbconvert_exporter": "python",
   "pygments_lexer": "ipython3",
   "version": "3.11.5"
  }
 },
 "nbformat": 4,
 "nbformat_minor": 5
}
