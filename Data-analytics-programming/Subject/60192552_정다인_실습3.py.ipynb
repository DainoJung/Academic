{
 "cells": [
  {
   "cell_type": "code",
   "execution_count": 3,
   "id": "e9b1eac4",
   "metadata": {},
   "outputs": [
    {
     "name": "stdout",
     "output_type": "stream",
     "text": [
      "문자열을 입력하세요: radar\n",
      "\n",
      "입력한 문자열:  radar\n",
      "이 문자열은 팰린드롬입니다.\n"
     ]
    }
   ],
   "source": [
    "user_str = str(input(\"문자열을 입력하세요: \"))\n",
    "\n",
    "print()\n",
    "print(\"입력한 문자열: \", user_str)\n",
    "    \n",
    "if(user_str == ''.join(reversed(user_str))):\n",
    "    print(\"이 문자열은 팰린드롬입니다.\")\n",
    "else:\n",
    "    print(\"이 문자열은 팰린드롬이 아닙니다.\")"
   ]
  }
 ],
 "metadata": {
  "kernelspec": {
   "display_name": "Python 3 (ipykernel)",
   "language": "python",
   "name": "python3"
  },
  "language_info": {
   "codemirror_mode": {
    "name": "ipython",
    "version": 3
   },
   "file_extension": ".py",
   "mimetype": "text/x-python",
   "name": "python",
   "nbconvert_exporter": "python",
   "pygments_lexer": "ipython3",
   "version": "3.11.5"
  }
 },
 "nbformat": 4,
 "nbformat_minor": 5
}
