{
 "cells": [
  {
   "cell_type": "markdown",
   "id": "98066efd-5c2e-4b5e-89a1-cb6d0c3fde45",
   "metadata": {},
   "source": [
    "## 60191118 윤지훈"
   ]
  },
  {
   "cell_type": "code",
   "execution_count": 1,
   "id": "2d6e5f55f74816a7",
   "metadata": {
    "ExecuteTime": {
     "end_time": "2024-11-20T02:01:50.882619Z",
     "start_time": "2024-11-20T02:01:50.135798Z"
    }
   },
   "outputs": [],
   "source": [
    "import matplotlib.pyplot as plt\n",
    "import numpy as np\n",
    "import pandas as pd"
   ]
  },
  {
   "cell_type": "code",
   "execution_count": 2,
   "id": "initial_id",
   "metadata": {
    "ExecuteTime": {
     "end_time": "2024-11-20T02:01:52.355283Z",
     "start_time": "2024-11-20T02:01:52.341227Z"
    },
    "collapsed": true,
    "jupyter": {
     "outputs_hidden": true
    }
   },
   "outputs": [
    {
     "data": {
      "text/html": [
       "<div>\n",
       "<style scoped>\n",
       "    .dataframe tbody tr th:only-of-type {\n",
       "        vertical-align: middle;\n",
       "    }\n",
       "\n",
       "    .dataframe tbody tr th {\n",
       "        vertical-align: top;\n",
       "    }\n",
       "\n",
       "    .dataframe thead th {\n",
       "        text-align: right;\n",
       "    }\n",
       "</style>\n",
       "<table border=\"1\" class=\"dataframe\">\n",
       "  <thead>\n",
       "    <tr style=\"text-align: right;\">\n",
       "      <th></th>\n",
       "      <th>선수</th>\n",
       "      <th>연봉</th>\n",
       "      <th>활동기간</th>\n",
       "    </tr>\n",
       "  </thead>\n",
       "  <tbody>\n",
       "    <tr>\n",
       "      <th>0</th>\n",
       "      <td>김연강</td>\n",
       "      <td>14</td>\n",
       "      <td>20</td>\n",
       "    </tr>\n",
       "    <tr>\n",
       "      <th>1</th>\n",
       "      <td>박태훈</td>\n",
       "      <td>4</td>\n",
       "      <td>8</td>\n",
       "    </tr>\n",
       "    <tr>\n",
       "      <th>2</th>\n",
       "      <td>박자성</td>\n",
       "      <td>48</td>\n",
       "      <td>20</td>\n",
       "    </tr>\n",
       "    <tr>\n",
       "      <th>3</th>\n",
       "      <td>손흥만</td>\n",
       "      <td>65</td>\n",
       "      <td>5</td>\n",
       "    </tr>\n",
       "    <tr>\n",
       "      <th>4</th>\n",
       "      <td>차도리</td>\n",
       "      <td>8</td>\n",
       "      <td>11</td>\n",
       "    </tr>\n",
       "    <tr>\n",
       "      <th>5</th>\n",
       "      <td>황희천</td>\n",
       "      <td>5</td>\n",
       "      <td>3</td>\n",
       "    </tr>\n",
       "    <tr>\n",
       "      <th>6</th>\n",
       "      <td>류현준</td>\n",
       "      <td>14</td>\n",
       "      <td>5</td>\n",
       "    </tr>\n",
       "    <tr>\n",
       "      <th>7</th>\n",
       "      <td>김만재</td>\n",
       "      <td>4</td>\n",
       "      <td>2</td>\n",
       "    </tr>\n",
       "    <tr>\n",
       "      <th>8</th>\n",
       "      <td>이윤얼</td>\n",
       "      <td>1</td>\n",
       "      <td>7</td>\n",
       "    </tr>\n",
       "    <tr>\n",
       "      <th>9</th>\n",
       "      <td>김병헌</td>\n",
       "      <td>6</td>\n",
       "      <td>9</td>\n",
       "    </tr>\n",
       "    <tr>\n",
       "      <th>10</th>\n",
       "      <td>기성웅</td>\n",
       "      <td>20</td>\n",
       "      <td>13</td>\n",
       "    </tr>\n",
       "  </tbody>\n",
       "</table>\n",
       "</div>"
      ],
      "text/plain": [
       "     선수  연봉  활동기간\n",
       "0   김연강  14    20\n",
       "1   박태훈   4     8\n",
       "2   박자성  48    20\n",
       "3   손흥만  65     5\n",
       "4   차도리   8    11\n",
       "5   황희천   5     3\n",
       "6   류현준  14     5\n",
       "7   김만재   4     2\n",
       "8   이윤얼   1     7\n",
       "9   김병헌   6     9\n",
       "10  기성웅  20    13"
      ]
     },
     "execution_count": 2,
     "metadata": {},
     "output_type": "execute_result"
    }
   ],
   "source": [
    "df = pd.read_csv('./data/player_salary.csv')\n",
    "df"
   ]
  },
  {
   "cell_type": "code",
   "execution_count": 5,
   "id": "464ea2df4591f9a2",
   "metadata": {
    "ExecuteTime": {
     "end_time": "2024-11-20T02:03:29.071706Z",
     "start_time": "2024-11-20T02:03:29.018447Z"
    }
   },
   "outputs": [
    {
     "data": {
      "text/plain": [
       "Text(0, 0.5, 'y')"
      ]
     },
     "execution_count": 5,
     "metadata": {},
     "output_type": "execute_result"
    },
    {
     "data": {
      "image/png": "[encoded data removed]",
      "text/plain": [
       "<Figure size 640x480 with 1 Axes>"
      ]
     },
     "metadata": {},
     "output_type": "display_data"
    }
   ],
   "source": [
    "x = df['활동기간']\n",
    "y = df['연봉']\n",
    "\n",
    "plt.scatter(x, y)\n",
    "plt.axis('scaled') # x, y축 눈금간격 동일하게\n",
    "plt.title('k-mean plot')\n",
    "plt.xlabel('x')\n",
    "plt.ylabel('y')"
   ]
  },
  {
   "cell_type": "markdown",
   "id": "46b4107fcd844463",
   "metadata": {},
   "source": [
    "### 문제\n",
    "활동기간의 차이도 있지만 연봉 차이가 더 심하기에 클러스터링시 활동기간의 값이 무시될 수 있음"
   ]
  },
  {
   "cell_type": "code",
   "execution_count": 7,
   "id": "6a6e7aa0d82ee28a",
   "metadata": {
    "ExecuteTime": {
     "end_time": "2024-11-20T02:06:20.542692Z",
     "start_time": "2024-11-20T02:06:20.538229Z"
    }
   },
   "outputs": [
    {
     "data": {
      "text/plain": [
       "array([[-0.16222491,  1.80363227],\n",
       "       [-0.67207461, -0.23123491],\n",
       "       [ 1.57126409,  1.80363227],\n",
       "       [ 2.43800859, -0.7399517 ],\n",
       "       [-0.46813473,  0.27748189],\n",
       "       [-0.62108964, -1.07909623],\n",
       "       [-0.16222491, -0.7399517 ],\n",
       "       [-0.67207461, -1.24866849],\n",
       "       [-0.82502952, -0.40080717],\n",
       "       [-0.57010467, -0.06166264],\n",
       "       [ 0.14368492,  0.61662642]])"
      ]
     },
     "execution_count": 7,
     "metadata": {},
     "output_type": "execute_result"
    }
   ],
   "source": [
    "from sklearn.preprocessing import StandardScaler\n",
    "\n",
    "df_scaled = StandardScaler().fit_transform(df.drop(['선수'], axis=1))\n",
    "df_scaled"
   ]
  },
  {
   "cell_type": "code",
   "execution_count": 8,
   "id": "f80a8c8f675074f0",
   "metadata": {
    "ExecuteTime": {
     "end_time": "2024-11-20T02:07:32.114006Z",
     "start_time": "2024-11-20T02:07:32.027066Z"
    }
   },
   "outputs": [
    {
     "data": {
      "text/plain": [
       "(np.float64(-1.4012835303104763),\n",
       " np.float64(1.9562473046908628),\n",
       " np.float64(-0.9881814281889821),\n",
       " np.float64(2.6011604948389153))"
      ]
     },
     "execution_count": 8,
     "metadata": {},
     "output_type": "execute_result"
    },
    {
     "data": {
      "image/png": "[encoded data removed]",
      "text/plain": [
       "<Figure size 640x480 with 1 Axes>"
      ]
     },
     "metadata": {},
     "output_type": "display_data"
    }
   ],
   "source": [
    "df2 = pd.DataFrame(df_scaled, columns=['연봉', '활동기간'])\n",
    "\n",
    "x = df2['활동기간']\n",
    "y = df2['연봉']\n",
    "\n",
    "plt.scatter(x, y)\n",
    "\n",
    "plt.title('k-means plot')\n",
    "plt.xlabel('x')\n",
    "plt.ylabel('y')\n",
    "plt.axis('scaled')"
   ]
  },
  {
   "cell_type": "markdown",
   "id": "f56ff5227ddcbd2e",
   "metadata": {},
   "source": [
    "### 해결\n",
    "값의 분포가 정규분포가 되도록 조"
   ]
  }
 ],
 "metadata": {
  "kernelspec": {
   "display_name": "Python 3 (ipykernel)",
   "language": "python",
   "name": "python3"
  },
  "language_info": {
   "codemirror_mode": {
    "name": "ipython",
    "version": 3
   },
   "file_extension": ".py",
   "mimetype": "text/x-python",
   "name": "python",
   "nbconvert_exporter": "python",
   "pygments_lexer": "ipython3",
   "version": "3.11.5"
  }
 },
 "nbformat": 4,
 "nbformat_minor": 5
}
