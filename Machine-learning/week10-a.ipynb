{
 "cells": [
  {
   "cell_type": "markdown",
   "id": "7d7b0753-b512-4924-9592-251e1da6d230",
   "metadata": {},
   "source": [
    "## 60191118 윤지훈"
   ]
  },
  {
   "cell_type": "code",
   "execution_count": 1,
   "id": "initial_id",
   "metadata": {
    "ExecuteTime": {
     "end_time": "2024-11-08T05:21:53.372328Z",
     "start_time": "2024-11-08T05:21:51.133292Z"
    },
    "collapsed": true,
    "jupyter": {
     "outputs_hidden": true
    }
   },
   "outputs": [],
   "source": [
    "import pandas as pd\n",
    "import numpy as np"
   ]
  },
  {
   "cell_type": "code",
   "execution_count": 2,
   "id": "efbd2a718c04c78d",
   "metadata": {
    "ExecuteTime": {
     "end_time": "2024-11-08T05:21:53.402248Z",
     "start_time": "2024-11-08T05:21:53.373792Z"
    }
   },
   "outputs": [
    {
     "data": {
      "text/html": [
       "<div>\n",
       "<style scoped>\n",
       "    .dataframe tbody tr th:only-of-type {\n",
       "        vertical-align: middle;\n",
       "    }\n",
       "\n",
       "    .dataframe tbody tr th {\n",
       "        vertical-align: top;\n",
       "    }\n",
       "\n",
       "    .dataframe thead th {\n",
       "        text-align: right;\n",
       "    }\n",
       "</style>\n",
       "<table border=\"1\" class=\"dataframe\">\n",
       "  <thead>\n",
       "    <tr style=\"text-align: right;\">\n",
       "      <th></th>\n",
       "      <th>Review_ID</th>\n",
       "      <th>Inudusty</th>\n",
       "      <th>Industry_level_2</th>\n",
       "      <th>Occupation</th>\n",
       "      <th>Experience</th>\n",
       "      <th>Pros</th>\n",
       "      <th>Cons</th>\n",
       "      <th>overall</th>\n",
       "      <th>advancement_rating</th>\n",
       "      <th>compensation_rating</th>\n",
       "      <th>worklife_balance_rating</th>\n",
       "      <th>culture_rating</th>\n",
       "      <th>management_rating</th>\n",
       "      <th>recommend_to_friend</th>\n",
       "    </tr>\n",
       "  </thead>\n",
       "  <tbody>\n",
       "    <tr>\n",
       "      <th>0</th>\n",
       "      <td>2864282</td>\n",
       "      <td>IT/웹/통신</td>\n",
       "      <td>쇼핑몰/오픈마켓</td>\n",
       "      <td>IT/인터넷</td>\n",
       "      <td>비지니스의 변화와 성장가운데 리스크 관리가 체계적으로 필요합니다</td>\n",
       "      <td>관료적이고 비효율적인 업무는 상대적으로 없고 비지니스가 성장하고 있기 때문에 그에따...</td>\n",
       "      <td>체계가 없고 체계가 없는 상태로 외형이 커져서 체계를 잡아가기가 어려움</td>\n",
       "      <td>3</td>\n",
       "      <td>3</td>\n",
       "      <td>3</td>\n",
       "      <td>3</td>\n",
       "      <td>1</td>\n",
       "      <td>1</td>\n",
       "      <td>Yes</td>\n",
       "    </tr>\n",
       "    <tr>\n",
       "      <th>1</th>\n",
       "      <td>2864160</td>\n",
       "      <td>IT/웹/통신</td>\n",
       "      <td>쇼핑몰/오픈마켓</td>\n",
       "      <td>인사/총무</td>\n",
       "      <td>개인의 커리어를 잘 신경쓰지 않음 그래도 한번쯤은 경험해볼만한 회사</td>\n",
       "      <td>여러 시도를 해볼 수 있고 한국에 없는 환경이라고 생각함</td>\n",
       "      <td>실무 모르는 외국인 디렉터가 지시를 찍어내림 이해할 수 없는 의사결정과 조직개편이 ...</td>\n",
       "      <td>2</td>\n",
       "      <td>4</td>\n",
       "      <td>4</td>\n",
       "      <td>3</td>\n",
       "      <td>3</td>\n",
       "      <td>2</td>\n",
       "      <td>No</td>\n",
       "    </tr>\n",
       "    <tr>\n",
       "      <th>2</th>\n",
       "      <td>2863336</td>\n",
       "      <td>IT/웹/통신</td>\n",
       "      <td>쇼핑몰/오픈마켓</td>\n",
       "      <td>경영/기획/컨설팅</td>\n",
       "      <td>워라벨은 안좋지만 그만큼 신입도 성장할 수 있는 기회를 주는 회사</td>\n",
       "      <td>자유로운 분위기, 재택근무, 수평적문화, 능동적업무, 개발자의 경우 높은 연봉, 유...</td>\n",
       "      <td>워라벨 없음, 체계가 없음. 뭐든 알아서 해야함, 인수인계가 잘 되지 않음, 개인주...</td>\n",
       "      <td>4</td>\n",
       "      <td>4</td>\n",
       "      <td>3</td>\n",
       "      <td>1</td>\n",
       "      <td>4</td>\n",
       "      <td>1</td>\n",
       "      <td>Yes</td>\n",
       "    </tr>\n",
       "    <tr>\n",
       "      <th>3</th>\n",
       "      <td>2862116</td>\n",
       "      <td>IT/웹/통신</td>\n",
       "      <td>쇼핑몰/오픈마켓</td>\n",
       "      <td>마케팅/시장조사</td>\n",
       "      <td>성장 속도가 높은 회사라 본인 하기에 따라 기회가 많음</td>\n",
       "      <td>성과를 내기 위하여 스스로 업무 플랜을 세워서 끌고 갈 수 있는 장점이 있음</td>\n",
       "      <td>설치해야 하는 프로그램이 많고 전산 구조가 복잡하여 다소 번거로운 점이 많음</td>\n",
       "      <td>4</td>\n",
       "      <td>4</td>\n",
       "      <td>4</td>\n",
       "      <td>4</td>\n",
       "      <td>4</td>\n",
       "      <td>4</td>\n",
       "      <td>Yes</td>\n",
       "    </tr>\n",
       "    <tr>\n",
       "      <th>4</th>\n",
       "      <td>2861866</td>\n",
       "      <td>IT/웹/통신</td>\n",
       "      <td>쇼핑몰/오픈마켓</td>\n",
       "      <td>디자인</td>\n",
       "      <td>너무 좋았어요 내부 기업영향이 아주 좋답니다 최고의 기업 다운 모습을 보여줌이 너무...</td>\n",
       "      <td>너무 좋고 내부 기업 영향과 인사체계가 구체적이라 너무 좋아요 앞으로도 돌아가고싶은...</td>\n",
       "      <td>단점이 크게 없는거 같습니다 무어라 적어야 할지  모르겠습니다 이런 굴지의 대기업에...</td>\n",
       "      <td>5</td>\n",
       "      <td>5</td>\n",
       "      <td>5</td>\n",
       "      <td>5</td>\n",
       "      <td>5</td>\n",
       "      <td>5</td>\n",
       "      <td>Yes</td>\n",
       "    </tr>\n",
       "    <tr>\n",
       "      <th>...</th>\n",
       "      <td>...</td>\n",
       "      <td>...</td>\n",
       "      <td>...</td>\n",
       "      <td>...</td>\n",
       "      <td>...</td>\n",
       "      <td>...</td>\n",
       "      <td>...</td>\n",
       "      <td>...</td>\n",
       "      <td>...</td>\n",
       "      <td>...</td>\n",
       "      <td>...</td>\n",
       "      <td>...</td>\n",
       "      <td>...</td>\n",
       "      <td>...</td>\n",
       "    </tr>\n",
       "    <tr>\n",
       "      <th>2003</th>\n",
       "      <td>1827582</td>\n",
       "      <td>IT/웹/통신</td>\n",
       "      <td>쇼핑몰/오픈마켓</td>\n",
       "      <td>마케팅/시장조사</td>\n",
       "      <td>온라인커머스 1등기업 , 월급루팡이 없는것같다. 다들 책임감있게 일하는데 그렇게 만...</td>\n",
       "      <td>온라인커머스 1등기업, 물류를 장악해 다른기업이 쉽게 따라올 수 없다.</td>\n",
       "      <td>워라밸이 보장되지 않음. 고객와우를 실현하기 위해 뼈가 바스라지게 일해야함</td>\n",
       "      <td>3</td>\n",
       "      <td>3</td>\n",
       "      <td>3</td>\n",
       "      <td>1</td>\n",
       "      <td>5</td>\n",
       "      <td>1</td>\n",
       "      <td>Yes</td>\n",
       "    </tr>\n",
       "    <tr>\n",
       "      <th>2004</th>\n",
       "      <td>1827444</td>\n",
       "      <td>IT/웹/통신</td>\n",
       "      <td>쇼핑몰/오픈마켓</td>\n",
       "      <td>IT/인터넷</td>\n",
       "      <td>ㅣㅣㅣㅣㅣㅣㅣㅣㅣㅣㅣㅣㅣㅣㅣㅣㅣㅣㅣㅣㅣㅣㅣㅣㅣㅣㅣㅣㅣㅣㅣ</td>\n",
       "      <td>ㅣㅣㅣㅣㅣㅣㅣㅣㅣㅣㅣㅣㅣㅣㅣㅣㅣㅣㅣㅣㅣㅣㅣㅣㅣㅣㅣㅣㅣㅣㅣ</td>\n",
       "      <td>ㅣㅣㅣㅣㅣㅣㅣㅣㅣㅣㅣㅣㅣㅣㅣㅣㅣㅣㅣㅣㅣㅣㅣㅣㅣㅣㅣㅣㅣㅣㅣ</td>\n",
       "      <td>5</td>\n",
       "      <td>4</td>\n",
       "      <td>4</td>\n",
       "      <td>5</td>\n",
       "      <td>2</td>\n",
       "      <td>5</td>\n",
       "      <td>Yes</td>\n",
       "    </tr>\n",
       "    <tr>\n",
       "      <th>2005</th>\n",
       "      <td>1827379</td>\n",
       "      <td>IT/웹/통신</td>\n",
       "      <td>쇼핑몰/오픈마켓</td>\n",
       "      <td>IT/인터넷</td>\n",
       "      <td>건물과 사내 카페 젊은 분위기는 좋은 곳</td>\n",
       "      <td>연차를 눈치 안 보고 쓸 수 있음 비교적 자유로운 분위기와 여러 동아리가 있음</td>\n",
       "      <td>승진이 어렵고 급여가 적음 라인을 잘 타야 되는 듯 도시락은 맛없고 주변 식당은 비싸다</td>\n",
       "      <td>4</td>\n",
       "      <td>3</td>\n",
       "      <td>3</td>\n",
       "      <td>3</td>\n",
       "      <td>4</td>\n",
       "      <td>3</td>\n",
       "      <td>Yes</td>\n",
       "    </tr>\n",
       "    <tr>\n",
       "      <th>2006</th>\n",
       "      <td>1827231</td>\n",
       "      <td>IT/웹/통신</td>\n",
       "      <td>쇼핑몰/오픈마켓</td>\n",
       "      <td>영업/제휴</td>\n",
       "      <td>인터뷰는 총 5회, 전화2회, 면접 3회. 고객을 위한 마인드를 장착한다면 면접에 ...</td>\n",
       "      <td>국내 이커머스 시장 1위 회사. 로켓배송이라는 하나의 패러다임을 완성한 회사이며, ...</td>\n",
       "      <td>업무령은 역대 최고인 회사이며, 한명한명이 전투원으로써 시장에서 가장 뛰어난 인재들...</td>\n",
       "      <td>4</td>\n",
       "      <td>4</td>\n",
       "      <td>3</td>\n",
       "      <td>2</td>\n",
       "      <td>5</td>\n",
       "      <td>5</td>\n",
       "      <td>Yes</td>\n",
       "    </tr>\n",
       "    <tr>\n",
       "      <th>2007</th>\n",
       "      <td>1826405</td>\n",
       "      <td>IT/웹/통신</td>\n",
       "      <td>쇼핑몰/오픈마켓</td>\n",
       "      <td>영업/제휴</td>\n",
       "      <td>정말 사람이 부품인 회사 끊임없이 시간 체크하고 계속 돌아간다</td>\n",
       "      <td>연차는 눈치 안보고 쓸수있음 연차 자유롭게 쓸수 있다는 것 이거 말고는 장점이 없음...</td>\n",
       "      <td>복지 없음에 가까움 일이 끊임없음 사무직임에도 불구하고 끊임없이 일하고 전체 중간에...</td>\n",
       "      <td>2</td>\n",
       "      <td>3</td>\n",
       "      <td>2</td>\n",
       "      <td>3</td>\n",
       "      <td>3</td>\n",
       "      <td>3</td>\n",
       "      <td>No</td>\n",
       "    </tr>\n",
       "  </tbody>\n",
       "</table>\n",
       "<p>2008 rows × 14 columns</p>\n",
       "</div>"
      ],
      "text/plain": [
       "      Review_ID Inudusty Industry_level_2 Occupation  \\\n",
       "0       2864282  IT/웹/통신         쇼핑몰/오픈마켓     IT/인터넷   \n",
       "1       2864160  IT/웹/통신         쇼핑몰/오픈마켓      인사/총무   \n",
       "2       2863336  IT/웹/통신         쇼핑몰/오픈마켓  경영/기획/컨설팅   \n",
       "3       2862116  IT/웹/통신         쇼핑몰/오픈마켓   마케팅/시장조사   \n",
       "4       2861866  IT/웹/통신         쇼핑몰/오픈마켓        디자인   \n",
       "...         ...      ...              ...        ...   \n",
       "2003    1827582  IT/웹/통신         쇼핑몰/오픈마켓   마케팅/시장조사   \n",
       "2004    1827444  IT/웹/통신         쇼핑몰/오픈마켓     IT/인터넷   \n",
       "2005    1827379  IT/웹/통신         쇼핑몰/오픈마켓     IT/인터넷   \n",
       "2006    1827231  IT/웹/통신         쇼핑몰/오픈마켓      영업/제휴   \n",
       "2007    1826405  IT/웹/통신         쇼핑몰/오픈마켓      영업/제휴   \n",
       "\n",
       "                                             Experience  \\\n",
       "0                   비지니스의 변화와 성장가운데 리스크 관리가 체계적으로 필요합니다   \n",
       "1                 개인의 커리어를 잘 신경쓰지 않음 그래도 한번쯤은 경험해볼만한 회사   \n",
       "2                  워라벨은 안좋지만 그만큼 신입도 성장할 수 있는 기회를 주는 회사   \n",
       "3                        성장 속도가 높은 회사라 본인 하기에 따라 기회가 많음   \n",
       "4     너무 좋았어요 내부 기업영향이 아주 좋답니다 최고의 기업 다운 모습을 보여줌이 너무...   \n",
       "...                                                 ...   \n",
       "2003  온라인커머스 1등기업 , 월급루팡이 없는것같다. 다들 책임감있게 일하는데 그렇게 만...   \n",
       "2004                    ㅣㅣㅣㅣㅣㅣㅣㅣㅣㅣㅣㅣㅣㅣㅣㅣㅣㅣㅣㅣㅣㅣㅣㅣㅣㅣㅣㅣㅣㅣㅣ   \n",
       "2005                             건물과 사내 카페 젊은 분위기는 좋은 곳   \n",
       "2006  인터뷰는 총 5회, 전화2회, 면접 3회. 고객을 위한 마인드를 장착한다면 면접에 ...   \n",
       "2007                 정말 사람이 부품인 회사 끊임없이 시간 체크하고 계속 돌아간다   \n",
       "\n",
       "                                                   Pros  \\\n",
       "0     관료적이고 비효율적인 업무는 상대적으로 없고 비지니스가 성장하고 있기 때문에 그에따...   \n",
       "1                       여러 시도를 해볼 수 있고 한국에 없는 환경이라고 생각함   \n",
       "2     자유로운 분위기, 재택근무, 수평적문화, 능동적업무, 개발자의 경우 높은 연봉, 유...   \n",
       "3            성과를 내기 위하여 스스로 업무 플랜을 세워서 끌고 갈 수 있는 장점이 있음   \n",
       "4     너무 좋고 내부 기업 영향과 인사체계가 구체적이라 너무 좋아요 앞으로도 돌아가고싶은...   \n",
       "...                                                 ...   \n",
       "2003           온라인커머스 1등기업, 물류를 장악해 다른기업이 쉽게 따라올 수 없다.    \n",
       "2004                    ㅣㅣㅣㅣㅣㅣㅣㅣㅣㅣㅣㅣㅣㅣㅣㅣㅣㅣㅣㅣㅣㅣㅣㅣㅣㅣㅣㅣㅣㅣㅣ   \n",
       "2005        연차를 눈치 안 보고 쓸 수 있음 비교적 자유로운 분위기와 여러 동아리가 있음   \n",
       "2006  국내 이커머스 시장 1위 회사. 로켓배송이라는 하나의 패러다임을 완성한 회사이며, ...   \n",
       "2007  연차는 눈치 안보고 쓸수있음 연차 자유롭게 쓸수 있다는 것 이거 말고는 장점이 없음...   \n",
       "\n",
       "                                                   Cons  overall  \\\n",
       "0               체계가 없고 체계가 없는 상태로 외형이 커져서 체계를 잡아가기가 어려움        3   \n",
       "1     실무 모르는 외국인 디렉터가 지시를 찍어내림 이해할 수 없는 의사결정과 조직개편이 ...        2   \n",
       "2     워라벨 없음, 체계가 없음. 뭐든 알아서 해야함, 인수인계가 잘 되지 않음, 개인주...        4   \n",
       "3            설치해야 하는 프로그램이 많고 전산 구조가 복잡하여 다소 번거로운 점이 많음        4   \n",
       "4     단점이 크게 없는거 같습니다 무어라 적어야 할지  모르겠습니다 이런 굴지의 대기업에...        5   \n",
       "...                                                 ...      ...   \n",
       "2003         워라밸이 보장되지 않음. 고객와우를 실현하기 위해 뼈가 바스라지게 일해야함         3   \n",
       "2004                    ㅣㅣㅣㅣㅣㅣㅣㅣㅣㅣㅣㅣㅣㅣㅣㅣㅣㅣㅣㅣㅣㅣㅣㅣㅣㅣㅣㅣㅣㅣㅣ        5   \n",
       "2005   승진이 어렵고 급여가 적음 라인을 잘 타야 되는 듯 도시락은 맛없고 주변 식당은 비싸다        4   \n",
       "2006  업무령은 역대 최고인 회사이며, 한명한명이 전투원으로써 시장에서 가장 뛰어난 인재들...        4   \n",
       "2007  복지 없음에 가까움 일이 끊임없음 사무직임에도 불구하고 끊임없이 일하고 전체 중간에...        2   \n",
       "\n",
       "      advancement_rating  compensation_rating  worklife_balance_rating  \\\n",
       "0                      3                    3                        3   \n",
       "1                      4                    4                        3   \n",
       "2                      4                    3                        1   \n",
       "3                      4                    4                        4   \n",
       "4                      5                    5                        5   \n",
       "...                  ...                  ...                      ...   \n",
       "2003                   3                    3                        1   \n",
       "2004                   4                    4                        5   \n",
       "2005                   3                    3                        3   \n",
       "2006                   4                    3                        2   \n",
       "2007                   3                    2                        3   \n",
       "\n",
       "      culture_rating  management_rating recommend_to_friend  \n",
       "0                  1                  1                 Yes  \n",
       "1                  3                  2                  No  \n",
       "2                  4                  1                 Yes  \n",
       "3                  4                  4                 Yes  \n",
       "4                  5                  5                 Yes  \n",
       "...              ...                ...                 ...  \n",
       "2003               5                  1                 Yes  \n",
       "2004               2                  5                 Yes  \n",
       "2005               4                  3                 Yes  \n",
       "2006               5                  5                 Yes  \n",
       "2007               3                  3                  No  \n",
       "\n",
       "[2008 rows x 14 columns]"
      ]
     },
     "execution_count": 2,
     "metadata": {},
     "output_type": "execute_result"
    }
   ],
   "source": [
    "# 데이터 로딩\n",
    "df = pd.read_csv('./data/job_satisfaction_10주차a.csv')\n",
    "df"
   ]
  },
  {
   "cell_type": "code",
   "execution_count": 3,
   "id": "d42ea1a0e78a6e2b",
   "metadata": {
    "ExecuteTime": {
     "end_time": "2024-11-08T05:21:53.405851Z",
     "start_time": "2024-11-08T05:21:53.402945Z"
    }
   },
   "outputs": [
    {
     "data": {
      "text/plain": [
       "Review_ID                  0\n",
       "Inudusty                   0\n",
       "Industry_level_2           0\n",
       "Occupation                 0\n",
       "Experience                 0\n",
       "Pros                       0\n",
       "Cons                       0\n",
       "overall                    0\n",
       "advancement_rating         0\n",
       "compensation_rating        0\n",
       "worklife_balance_rating    0\n",
       "culture_rating             0\n",
       "management_rating          0\n",
       "recommend_to_friend        0\n",
       "dtype: int64"
      ]
     },
     "execution_count": 3,
     "metadata": {},
     "output_type": "execute_result"
    }
   ],
   "source": [
    "# 결측치 확인\n",
    "df.isnull().sum()"
   ]
  },
  {
   "cell_type": "code",
   "execution_count": 4,
   "id": "26f173e082e85470",
   "metadata": {
    "ExecuteTime": {
     "end_time": "2024-11-08T05:21:53.409532Z",
     "start_time": "2024-11-08T05:21:53.406962Z"
    }
   },
   "outputs": [],
   "source": [
    "# X 데이터와 y데이터 분리\n",
    "\n",
    "X = df[['advancement_rating', 'compensation_rating', 'worklife_balance_rating', 'culture_rating', 'management_rating']]\n",
    "y = df[[\"overall\"]]"
   ]
  },
  {
   "cell_type": "code",
   "execution_count": 5,
   "id": "d2df38d4c579049f",
   "metadata": {
    "ExecuteTime": {
     "end_time": "2024-11-08T05:21:56.394395Z",
     "start_time": "2024-11-08T05:21:53.410139Z"
    }
   },
   "outputs": [],
   "source": [
    "from sklearn.model_selection import train_test_split\n",
    "\n",
    "X_train, X_test, y_train, y_test = train_test_split(X, y, test_size=0.3, random_state=0)"
   ]
  },
  {
   "cell_type": "code",
   "execution_count": 6,
   "id": "50785cc79ccb9cce",
   "metadata": {
    "ExecuteTime": {
     "end_time": "2024-11-08T05:21:56.623230Z",
     "start_time": "2024-11-08T05:21:56.395350Z"
    }
   },
   "outputs": [
    {
     "data": {
      "text/html": [
       "<style>#sk-container-id-1 {\n",
       "  /* Definition of color scheme common for light and dark mode */\n",
       "  --sklearn-color-text: black;\n",
       "  --sklearn-color-line: gray;\n",
       "  /* Definition of color scheme for unfitted estimators */\n",
       "  --sklearn-color-unfitted-level-0: #fff5e6;\n",
       "  --sklearn-color-unfitted-level-1: #f6e4d2;\n",
       "  --sklearn-color-unfitted-level-2: #ffe0b3;\n",
       "  --sklearn-color-unfitted-level-3: chocolate;\n",
       "  /* Definition of color scheme for fitted estimators */\n",
       "  --sklearn-color-fitted-level-0: #f0f8ff;\n",
       "  --sklearn-color-fitted-level-1: #d4ebff;\n",
       "  --sklearn-color-fitted-level-2: #b3dbfd;\n",
       "  --sklearn-color-fitted-level-3: cornflowerblue;\n",
       "\n",
       "  /* Specific color for light theme */\n",
       "  --sklearn-color-text-on-default-background: var(--sg-text-color, var(--theme-code-foreground, var(--jp-content-font-color1, black)));\n",
       "  --sklearn-color-background: var(--sg-background-color, var(--theme-background, var(--jp-layout-color0, white)));\n",
       "  --sklearn-color-border-box: var(--sg-text-color, var(--theme-code-foreground, var(--jp-content-font-color1, black)));\n",
       "  --sklearn-color-icon: #696969;\n",
       "\n",
       "  @media (prefers-color-scheme: dark) {\n",
       "    /* Redefinition of color scheme for dark theme */\n",
       "    --sklearn-color-text-on-default-background: var(--sg-text-color, var(--theme-code-foreground, var(--jp-content-font-color1, white)));\n",
       "    --sklearn-color-background: var(--sg-background-color, var(--theme-background, var(--jp-layout-color0, #111)));\n",
       "    --sklearn-color-border-box: var(--sg-text-color, var(--theme-code-foreground, var(--jp-content-font-color1, white)));\n",
       "    --sklearn-color-icon: #878787;\n",
       "  }\n",
       "}\n",
       "\n",
       "#sk-container-id-1 {\n",
       "  color: var(--sklearn-color-text);\n",
       "}\n",
       "\n",
       "#sk-container-id-1 pre {\n",
       "  padding: 0;\n",
       "}\n",
       "\n",
       "#sk-container-id-1 input.sk-hidden--visually {\n",
       "  border: 0;\n",
       "  clip: rect(1px 1px 1px 1px);\n",
       "  clip: rect(1px, 1px, 1px, 1px);\n",
       "  height: 1px;\n",
       "  margin: -1px;\n",
       "  overflow: hidden;\n",
       "  padding: 0;\n",
       "  position: absolute;\n",
       "  width: 1px;\n",
       "}\n",
       "\n",
       "#sk-container-id-1 div.sk-dashed-wrapped {\n",
       "  border: 1px dashed var(--sklearn-color-line);\n",
       "  margin: 0 0.4em 0.5em 0.4em;\n",
       "  box-sizing: border-box;\n",
       "  padding-bottom: 0.4em;\n",
       "  background-color: var(--sklearn-color-background);\n",
       "}\n",
       "\n",
       "#sk-container-id-1 div.sk-container {\n",
       "  /* jupyter's `normalize.less` sets `[hidden] { display: none; }`\n",
       "     but bootstrap.min.css set `[hidden] { display: none !important; }`\n",
       "     so we also need the `!important` here to be able to override the\n",
       "     default hidden behavior on the sphinx rendered scikit-learn.org.\n",
       "     See: https://github.com/scikit-learn/scikit-learn/issues/21755 */\n",
       "  display: inline-block !important;\n",
       "  position: relative;\n",
       "}\n",
       "\n",
       "#sk-container-id-1 div.sk-text-repr-fallback {\n",
       "  display: none;\n",
       "}\n",
       "\n",
       "div.sk-parallel-item,\n",
       "div.sk-serial,\n",
       "div.sk-item {\n",
       "  /* draw centered vertical line to link estimators */\n",
       "  background-image: linear-gradient(var(--sklearn-color-text-on-default-background), var(--sklearn-color-text-on-default-background));\n",
       "  background-size: 2px 100%;\n",
       "  background-repeat: no-repeat;\n",
       "  background-position: center center;\n",
       "}\n",
       "\n",
       "/* Parallel-specific style estimator block */\n",
       "\n",
       "#sk-container-id-1 div.sk-parallel-item::after {\n",
       "  content: \"\";\n",
       "  width: 100%;\n",
       "  border-bottom: 2px solid var(--sklearn-color-text-on-default-background);\n",
       "  flex-grow: 1;\n",
       "}\n",
       "\n",
       "#sk-container-id-1 div.sk-parallel {\n",
       "  display: flex;\n",
       "  align-items: stretch;\n",
       "  justify-content: center;\n",
       "  background-color: var(--sklearn-color-background);\n",
       "  position: relative;\n",
       "}\n",
       "\n",
       "#sk-container-id-1 div.sk-parallel-item {\n",
       "  display: flex;\n",
       "  flex-direction: column;\n",
       "}\n",
       "\n",
       "#sk-container-id-1 div.sk-parallel-item:first-child::after {\n",
       "  align-self: flex-end;\n",
       "  width: 50%;\n",
       "}\n",
       "\n",
       "#sk-container-id-1 div.sk-parallel-item:last-child::after {\n",
       "  align-self: flex-start;\n",
       "  width: 50%;\n",
       "}\n",
       "\n",
       "#sk-container-id-1 div.sk-parallel-item:only-child::after {\n",
       "  width: 0;\n",
       "}\n",
       "\n",
       "/* Serial-specific style estimator block */\n",
       "\n",
       "#sk-container-id-1 div.sk-serial {\n",
       "  display: flex;\n",
       "  flex-direction: column;\n",
       "  align-items: center;\n",
       "  background-color: var(--sklearn-color-background);\n",
       "  padding-right: 1em;\n",
       "  padding-left: 1em;\n",
       "}\n",
       "\n",
       "\n",
       "/* Toggleable style: style used for estimator/Pipeline/ColumnTransformer box that is\n",
       "clickable and can be expanded/collapsed.\n",
       "- Pipeline and ColumnTransformer use this feature and define the default style\n",
       "- Estimators will overwrite some part of the style using the `sk-estimator` class\n",
       "*/\n",
       "\n",
       "/* Pipeline and ColumnTransformer style (default) */\n",
       "\n",
       "#sk-container-id-1 div.sk-toggleable {\n",
       "  /* Default theme specific background. It is overwritten whether we have a\n",
       "  specific estimator or a Pipeline/ColumnTransformer */\n",
       "  background-color: var(--sklearn-color-background);\n",
       "}\n",
       "\n",
       "/* Toggleable label */\n",
       "#sk-container-id-1 label.sk-toggleable__label {\n",
       "  cursor: pointer;\n",
       "  display: block;\n",
       "  width: 100%;\n",
       "  margin-bottom: 0;\n",
       "  padding: 0.5em;\n",
       "  box-sizing: border-box;\n",
       "  text-align: center;\n",
       "}\n",
       "\n",
       "#sk-container-id-1 label.sk-toggleable__label-arrow:before {\n",
       "  /* Arrow on the left of the label */\n",
       "  content: \"▸\";\n",
       "  float: left;\n",
       "  margin-right: 0.25em;\n",
       "  color: var(--sklearn-color-icon);\n",
       "}\n",
       "\n",
       "#sk-container-id-1 label.sk-toggleable__label-arrow:hover:before {\n",
       "  color: var(--sklearn-color-text);\n",
       "}\n",
       "\n",
       "/* Toggleable content - dropdown */\n",
       "\n",
       "#sk-container-id-1 div.sk-toggleable__content {\n",
       "  max-height: 0;\n",
       "  max-width: 0;\n",
       "  overflow: hidden;\n",
       "  text-align: left;\n",
       "  /* unfitted */\n",
       "  background-color: var(--sklearn-color-unfitted-level-0);\n",
       "}\n",
       "\n",
       "#sk-container-id-1 div.sk-toggleable__content.fitted {\n",
       "  /* fitted */\n",
       "  background-color: var(--sklearn-color-fitted-level-0);\n",
       "}\n",
       "\n",
       "#sk-container-id-1 div.sk-toggleable__content pre {\n",
       "  margin: 0.2em;\n",
       "  border-radius: 0.25em;\n",
       "  color: var(--sklearn-color-text);\n",
       "  /* unfitted */\n",
       "  background-color: var(--sklearn-color-unfitted-level-0);\n",
       "}\n",
       "\n",
       "#sk-container-id-1 div.sk-toggleable__content.fitted pre {\n",
       "  /* unfitted */\n",
       "  background-color: var(--sklearn-color-fitted-level-0);\n",
       "}\n",
       "\n",
       "#sk-container-id-1 input.sk-toggleable__control:checked~div.sk-toggleable__content {\n",
       "  /* Expand drop-down */\n",
       "  max-height: 200px;\n",
       "  max-width: 100%;\n",
       "  overflow: auto;\n",
       "}\n",
       "\n",
       "#sk-container-id-1 input.sk-toggleable__control:checked~label.sk-toggleable__label-arrow:before {\n",
       "  content: \"▾\";\n",
       "}\n",
       "\n",
       "/* Pipeline/ColumnTransformer-specific style */\n",
       "\n",
       "#sk-container-id-1 div.sk-label input.sk-toggleable__control:checked~label.sk-toggleable__label {\n",
       "  color: var(--sklearn-color-text);\n",
       "  background-color: var(--sklearn-color-unfitted-level-2);\n",
       "}\n",
       "\n",
       "#sk-container-id-1 div.sk-label.fitted input.sk-toggleable__control:checked~label.sk-toggleable__label {\n",
       "  background-color: var(--sklearn-color-fitted-level-2);\n",
       "}\n",
       "\n",
       "/* Estimator-specific style */\n",
       "\n",
       "/* Colorize estimator box */\n",
       "#sk-container-id-1 div.sk-estimator input.sk-toggleable__control:checked~label.sk-toggleable__label {\n",
       "  /* unfitted */\n",
       "  background-color: var(--sklearn-color-unfitted-level-2);\n",
       "}\n",
       "\n",
       "#sk-container-id-1 div.sk-estimator.fitted input.sk-toggleable__control:checked~label.sk-toggleable__label {\n",
       "  /* fitted */\n",
       "  background-color: var(--sklearn-color-fitted-level-2);\n",
       "}\n",
       "\n",
       "#sk-container-id-1 div.sk-label label.sk-toggleable__label,\n",
       "#sk-container-id-1 div.sk-label label {\n",
       "  /* The background is the default theme color */\n",
       "  color: var(--sklearn-color-text-on-default-background);\n",
       "}\n",
       "\n",
       "/* On hover, darken the color of the background */\n",
       "#sk-container-id-1 div.sk-label:hover label.sk-toggleable__label {\n",
       "  color: var(--sklearn-color-text);\n",
       "  background-color: var(--sklearn-color-unfitted-level-2);\n",
       "}\n",
       "\n",
       "/* Label box, darken color on hover, fitted */\n",
       "#sk-container-id-1 div.sk-label.fitted:hover label.sk-toggleable__label.fitted {\n",
       "  color: var(--sklearn-color-text);\n",
       "  background-color: var(--sklearn-color-fitted-level-2);\n",
       "}\n",
       "\n",
       "/* Estimator label */\n",
       "\n",
       "#sk-container-id-1 div.sk-label label {\n",
       "  font-family: monospace;\n",
       "  font-weight: bold;\n",
       "  display: inline-block;\n",
       "  line-height: 1.2em;\n",
       "}\n",
       "\n",
       "#sk-container-id-1 div.sk-label-container {\n",
       "  text-align: center;\n",
       "}\n",
       "\n",
       "/* Estimator-specific */\n",
       "#sk-container-id-1 div.sk-estimator {\n",
       "  font-family: monospace;\n",
       "  border: 1px dotted var(--sklearn-color-border-box);\n",
       "  border-radius: 0.25em;\n",
       "  box-sizing: border-box;\n",
       "  margin-bottom: 0.5em;\n",
       "  /* unfitted */\n",
       "  background-color: var(--sklearn-color-unfitted-level-0);\n",
       "}\n",
       "\n",
       "#sk-container-id-1 div.sk-estimator.fitted {\n",
       "  /* fitted */\n",
       "  background-color: var(--sklearn-color-fitted-level-0);\n",
       "}\n",
       "\n",
       "/* on hover */\n",
       "#sk-container-id-1 div.sk-estimator:hover {\n",
       "  /* unfitted */\n",
       "  background-color: var(--sklearn-color-unfitted-level-2);\n",
       "}\n",
       "\n",
       "#sk-container-id-1 div.sk-estimator.fitted:hover {\n",
       "  /* fitted */\n",
       "  background-color: var(--sklearn-color-fitted-level-2);\n",
       "}\n",
       "\n",
       "/* Specification for estimator info (e.g. \"i\" and \"?\") */\n",
       "\n",
       "/* Common style for \"i\" and \"?\" */\n",
       "\n",
       ".sk-estimator-doc-link,\n",
       "a:link.sk-estimator-doc-link,\n",
       "a:visited.sk-estimator-doc-link {\n",
       "  float: right;\n",
       "  font-size: smaller;\n",
       "  line-height: 1em;\n",
       "  font-family: monospace;\n",
       "  background-color: var(--sklearn-color-background);\n",
       "  border-radius: 1em;\n",
       "  height: 1em;\n",
       "  width: 1em;\n",
       "  text-decoration: none !important;\n",
       "  margin-left: 1ex;\n",
       "  /* unfitted */\n",
       "  border: var(--sklearn-color-unfitted-level-1) 1pt solid;\n",
       "  color: var(--sklearn-color-unfitted-level-1);\n",
       "}\n",
       "\n",
       ".sk-estimator-doc-link.fitted,\n",
       "a:link.sk-estimator-doc-link.fitted,\n",
       "a:visited.sk-estimator-doc-link.fitted {\n",
       "  /* fitted */\n",
       "  border: var(--sklearn-color-fitted-level-1) 1pt solid;\n",
       "  color: var(--sklearn-color-fitted-level-1);\n",
       "}\n",
       "\n",
       "/* On hover */\n",
       "div.sk-estimator:hover .sk-estimator-doc-link:hover,\n",
       ".sk-estimator-doc-link:hover,\n",
       "div.sk-label-container:hover .sk-estimator-doc-link:hover,\n",
       ".sk-estimator-doc-link:hover {\n",
       "  /* unfitted */\n",
       "  background-color: var(--sklearn-color-unfitted-level-3);\n",
       "  color: var(--sklearn-color-background);\n",
       "  text-decoration: none;\n",
       "}\n",
       "\n",
       "div.sk-estimator.fitted:hover .sk-estimator-doc-link.fitted:hover,\n",
       ".sk-estimator-doc-link.fitted:hover,\n",
       "div.sk-label-container:hover .sk-estimator-doc-link.fitted:hover,\n",
       ".sk-estimator-doc-link.fitted:hover {\n",
       "  /* fitted */\n",
       "  background-color: var(--sklearn-color-fitted-level-3);\n",
       "  color: var(--sklearn-color-background);\n",
       "  text-decoration: none;\n",
       "}\n",
       "\n",
       "/* Span, style for the box shown on hovering the info icon */\n",
       ".sk-estimator-doc-link span {\n",
       "  display: none;\n",
       "  z-index: 9999;\n",
       "  position: relative;\n",
       "  font-weight: normal;\n",
       "  right: .2ex;\n",
       "  padding: .5ex;\n",
       "  margin: .5ex;\n",
       "  width: min-content;\n",
       "  min-width: 20ex;\n",
       "  max-width: 50ex;\n",
       "  color: var(--sklearn-color-text);\n",
       "  box-shadow: 2pt 2pt 4pt #999;\n",
       "  /* unfitted */\n",
       "  background: var(--sklearn-color-unfitted-level-0);\n",
       "  border: .5pt solid var(--sklearn-color-unfitted-level-3);\n",
       "}\n",
       "\n",
       ".sk-estimator-doc-link.fitted span {\n",
       "  /* fitted */\n",
       "  background: var(--sklearn-color-fitted-level-0);\n",
       "  border: var(--sklearn-color-fitted-level-3);\n",
       "}\n",
       "\n",
       ".sk-estimator-doc-link:hover span {\n",
       "  display: block;\n",
       "}\n",
       "\n",
       "/* \"?\"-specific style due to the `<a>` HTML tag */\n",
       "\n",
       "#sk-container-id-1 a.estimator_doc_link {\n",
       "  float: right;\n",
       "  font-size: 1rem;\n",
       "  line-height: 1em;\n",
       "  font-family: monospace;\n",
       "  background-color: var(--sklearn-color-background);\n",
       "  border-radius: 1rem;\n",
       "  height: 1rem;\n",
       "  width: 1rem;\n",
       "  text-decoration: none;\n",
       "  /* unfitted */\n",
       "  color: var(--sklearn-color-unfitted-level-1);\n",
       "  border: var(--sklearn-color-unfitted-level-1) 1pt solid;\n",
       "}\n",
       "\n",
       "#sk-container-id-1 a.estimator_doc_link.fitted {\n",
       "  /* fitted */\n",
       "  border: var(--sklearn-color-fitted-level-1) 1pt solid;\n",
       "  color: var(--sklearn-color-fitted-level-1);\n",
       "}\n",
       "\n",
       "/* On hover */\n",
       "#sk-container-id-1 a.estimator_doc_link:hover {\n",
       "  /* unfitted */\n",
       "  background-color: var(--sklearn-color-unfitted-level-3);\n",
       "  color: var(--sklearn-color-background);\n",
       "  text-decoration: none;\n",
       "}\n",
       "\n",
       "#sk-container-id-1 a.estimator_doc_link.fitted:hover {\n",
       "  /* fitted */\n",
       "  background-color: var(--sklearn-color-fitted-level-3);\n",
       "}\n",
       "</style><div id=\"sk-container-id-1\" class=\"sk-top-container\"><div class=\"sk-text-repr-fallback\"><pre>LinearRegression()</pre><b>In a Jupyter environment, please rerun this cell to show the HTML representation or trust the notebook. <br />On GitHub, the HTML representation is unable to render, please try loading this page with nbviewer.org.</b></div><div class=\"sk-container\" hidden><div class=\"sk-item\"><div class=\"sk-estimator fitted sk-toggleable\"><input class=\"sk-toggleable__control sk-hidden--visually\" id=\"sk-estimator-id-1\" type=\"checkbox\" checked><label for=\"sk-estimator-id-1\" class=\"sk-toggleable__label fitted sk-toggleable__label-arrow fitted\">&nbsp;&nbsp;LinearRegression<a class=\"sk-estimator-doc-link fitted\" rel=\"noreferrer\" target=\"_blank\" href=\"https://scikit-learn.org/1.5/modules/generated/sklearn.linear_model.LinearRegression.html\">?<span>Documentation for LinearRegression</span></a><span class=\"sk-estimator-doc-link fitted\">i<span>Fitted</span></span></label><div class=\"sk-toggleable__content fitted\"><pre>LinearRegression()</pre></div> </div></div></div></div>"
      ],
      "text/plain": [
       "LinearRegression()"
      ]
     },
     "execution_count": 6,
     "metadata": {},
     "output_type": "execute_result"
    }
   ],
   "source": [
    "from sklearn.linear_model import LinearRegression\n",
    "\n",
    "mlr = LinearRegression()\n",
    "mlr.fit(X_train, y_train)"
   ]
  },
  {
   "cell_type": "code",
   "execution_count": 7,
   "id": "3ba67faedc4fd2f7",
   "metadata": {
    "ExecuteTime": {
     "end_time": "2024-11-08T05:21:56.627555Z",
     "start_time": "2024-11-08T05:21:56.624215Z"
    }
   },
   "outputs": [
    {
     "data": {
      "text/plain": [
       "Index(['advancement_rating', 'compensation_rating', 'worklife_balance_rating',\n",
       "       'culture_rating', 'management_rating'],\n",
       "      dtype='object')"
      ]
     },
     "execution_count": 7,
     "metadata": {},
     "output_type": "execute_result"
    }
   ],
   "source": [
    "X.columns"
   ]
  },
  {
   "cell_type": "code",
   "execution_count": 8,
   "id": "6c0941da59f8a634",
   "metadata": {
    "ExecuteTime": {
     "end_time": "2024-11-08T05:21:56.630472Z",
     "start_time": "2024-11-08T05:21:56.628247Z"
    }
   },
   "outputs": [],
   "source": [
    "my_rating = pd.DataFrame([[5, 5, 3, 3, 3]], columns=X.columns)"
   ]
  },
  {
   "cell_type": "code",
   "execution_count": 9,
   "id": "3e286d2e5a9ecfa7",
   "metadata": {
    "ExecuteTime": {
     "end_time": "2024-11-08T05:21:56.634450Z",
     "start_time": "2024-11-08T05:21:56.631193Z"
    }
   },
   "outputs": [
    {
     "data": {
      "text/plain": [
       "array([[3.95557096]])"
      ]
     },
     "execution_count": 9,
     "metadata": {},
     "output_type": "execute_result"
    }
   ],
   "source": [
    "mlr.predict(my_rating)"
   ]
  },
  {
   "cell_type": "code",
   "execution_count": 10,
   "id": "41e909db036ca7ec",
   "metadata": {
    "ExecuteTime": {
     "end_time": "2024-11-08T05:21:56.638458Z",
     "start_time": "2024-11-08T05:21:56.636263Z"
    }
   },
   "outputs": [],
   "source": [
    "y_pred = mlr.predict(X_test)"
   ]
  },
  {
   "cell_type": "code",
   "execution_count": 15,
   "id": "350c7c50126de0fc",
   "metadata": {
    "ExecuteTime": {
     "end_time": "2024-11-08T05:22:12.222489Z",
     "start_time": "2024-11-08T05:22:12.161805Z"
    }
   },
   "outputs": [
    {
     "data": {
      "image/png": "[encoded data removed]",
      "text/plain": [
       "<Figure size 640x480 with 1 Axes>"
      ]
     },
     "metadata": {},
     "output_type": "display_data"
    }
   ],
   "source": [
    "import matplotlib.pyplot as plt\n",
    "plt.scatter(y_test, y_pred, alpha=0.4)\n",
    "plt.show()"
   ]
  },
  {
   "cell_type": "markdown",
   "id": "b549e70ecf4036b5",
   "metadata": {
    "jp-MarkdownHeadingCollapsed": true
   },
   "source": [
    "## 회귀계수"
   ]
  },
  {
   "cell_type": "code",
   "execution_count": 16,
   "id": "248a1d6bb9fd87ea",
   "metadata": {
    "ExecuteTime": {
     "end_time": "2024-11-08T05:22:13.928925Z",
     "start_time": "2024-11-08T05:22:13.926348Z"
    }
   },
   "outputs": [
    {
     "data": {
      "text/plain": [
       "Index(['advancement_rating', 'compensation_rating', 'worklife_balance_rating',\n",
       "       'culture_rating', 'management_rating'],\n",
       "      dtype='object')"
      ]
     },
     "execution_count": 16,
     "metadata": {},
     "output_type": "execute_result"
    }
   ],
   "source": [
    "X.columns"
   ]
  },
  {
   "cell_type": "code",
   "execution_count": 17,
   "id": "8538bb17784ed4c",
   "metadata": {
    "ExecuteTime": {
     "end_time": "2024-11-08T05:22:14.370112Z",
     "start_time": "2024-11-08T05:22:14.367510Z"
    }
   },
   "outputs": [
    {
     "name": "stdout",
     "output_type": "stream",
     "text": [
      "[[0.15522895 0.18948874 0.14790782 0.1519367  0.24760679]]\n"
     ]
    }
   ],
   "source": [
    "# X변수들에 대한 기울기\n",
    "print(mlr.coef_)"
   ]
  },
  {
   "cell_type": "code",
   "execution_count": 18,
   "id": "ca22997fb8f97e70",
   "metadata": {
    "ExecuteTime": {
     "end_time": "2024-11-08T05:22:14.807396Z",
     "start_time": "2024-11-08T05:22:14.805447Z"
    }
   },
   "outputs": [
    {
     "name": "stdout",
     "output_type": "stream",
     "text": [
      "[0.5896286]\n"
     ]
    }
   ],
   "source": [
    "# y 절편\n",
    "print(mlr.intercept_)"
   ]
  },
  {
   "cell_type": "markdown",
   "id": "2a9b1dfbd42d1c45",
   "metadata": {},
   "source": [
    "### y = 0.5896286 + 0.15522895x1 + 0.18948874x2 + ..."
   ]
  },
  {
   "cell_type": "markdown",
   "id": "a6b5b323a8ec29e1",
   "metadata": {},
   "source": [
    "## 변수별 상관 확인(EDA)"
   ]
  },
  {
   "cell_type": "code",
   "execution_count": 22,
   "id": "877ae390d64f0dc4",
   "metadata": {
    "ExecuteTime": {
     "end_time": "2024-11-08T05:22:50.045342Z",
     "start_time": "2024-11-08T05:22:49.985606Z"
    }
   },
   "outputs": [
    {
     "data": {
      "image/png": "[encoded data removed]",
      "text/plain": [
       "<Figure size 640x480 with 1 Axes>"
      ]
     },
     "metadata": {},
     "output_type": "display_data"
    }
   ],
   "source": [
    "# 복지 및 급여와 만족도의 상관관계\n",
    "plt.scatter(df[['worklife_balance_rating']], df[['overall']], alpha=0.05)\n",
    "plt.show()"
   ]
  },
  {
   "cell_type": "markdown",
   "id": "4765634b283ffbea",
   "metadata": {},
   "source": [
    "## 성능평가"
   ]
  },
  {
   "cell_type": "code",
   "execution_count": 24,
   "id": "33a941b341c34526",
   "metadata": {
    "ExecuteTime": {
     "end_time": "2024-11-08T00:56:05.595764Z",
     "start_time": "2024-11-08T00:56:05.590805Z"
    }
   },
   "outputs": [],
   "source": [
    "from sklearn.metrics import mean_squared_error, mean_absolute_error, r2_score"
   ]
  },
  {
   "cell_type": "code",
   "execution_count": 25,
   "id": "296246afdc11eb18",
   "metadata": {
    "ExecuteTime": {
     "end_time": "2024-11-08T00:56:40.197110Z",
     "start_time": "2024-11-08T00:56:40.186475Z"
    }
   },
   "outputs": [],
   "source": [
    "mae = mean_absolute_error(y_test, y_pred)\n",
    "mse = mean_squared_error(y_test, y_pred)\n",
    "rmse = mse ** 0.5\n",
    "r2 = r2_score(y_test, y_pred)"
   ]
  },
  {
   "cell_type": "code",
   "execution_count": 26,
   "id": "6c4565efe950cfb1",
   "metadata": {
    "ExecuteTime": {
     "end_time": "2024-11-08T00:57:16.144861Z",
     "start_time": "2024-11-08T00:57:16.142441Z"
    }
   },
   "outputs": [
    {
     "name": "stdout",
     "output_type": "stream",
     "text": [
      "MAE : 0.51\n",
      "MSE : 0.45\n",
      "RMSE : 0.67\n",
      "R2 Score : 0.61\n"
     ]
    }
   ],
   "source": [
    "print(\"MAE : %.2f\" %mae)\n",
    "print(\"MSE : %.2f\" %mse)\n",
    "print(\"RMSE : %.2f\" %rmse)\n",
    "print(\"R2 Score : %.2f\" %r2)"
   ]
  },
  {
   "cell_type": "markdown",
   "id": "e14b29e8b5868a0f",
   "metadata": {},
   "source": [
    "## 평가분석"
   ]
  },
  {
   "cell_type": "markdown",
   "id": "6c945b44d4d042f0",
   "metadata": {},
   "source": [
    "**분석**\n",
    "회귀계수를 통해 management_rating가 가장 결과값에 영향이 크고 culture_rating이 가장 영향이 적은것을 알 수 있다.\n",
    "\n",
    "RMSE가 상대적으로 높기에 큰 예측 오차가 발생할 가능성이 있다.\n",
    "\n",
    "또한 R2 Score 점수가 0.61로 그리 높지 않기에 개선의 여지가 필요해보인다.\n",
    "\n",
    "**느낀점**\n",
    "처음 EDA를 확인식 바둑판 모양으로 표시가 되어 오류가 발생한지 알았다.\n",
    "하지만 데이터의 특성이 연속형 값이 나니 이산적인 값이기 때문에 이런 일이 생기는것을 알 수 있었다.\n",
    "또한 MAE, MSE, RMSE, R2 Score등을 통해 모델의 성능을 여러 방면에서 비교 분석할 수 있어서 좋았다."
   ]
  },
  {
   "cell_type": "code",
   "execution_count": null,
   "id": "86e0d9bf06bff138",
   "metadata": {},
   "outputs": [],
   "source": []
  }
 ],
 "metadata": {
  "kernelspec": {
   "display_name": "Python 3 (ipykernel)",
   "language": "python",
   "name": "python3"
  },
  "language_info": {
   "codemirror_mode": {
    "name": "ipython",
    "version": 3
   },
   "file_extension": ".py",
   "mimetype": "text/x-python",
   "name": "python",
   "nbconvert_exporter": "python",
   "pygments_lexer": "ipython3",
   "version": "3.11.5"
  }
 },
 "nbformat": 4,
 "nbformat_minor": 5
}
